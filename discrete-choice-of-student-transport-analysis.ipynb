{
 "cells": [
  {
   "cell_type": "markdown",
   "id": "f093527d",
   "metadata": {
    "papermill": {
     "duration": 0.003783,
     "end_time": "2024-11-05T04:11:35.973342",
     "exception": false,
     "start_time": "2024-11-05T04:11:35.969559",
     "status": "completed"
    },
    "tags": []
   },
   "source": [
    "## Student Transportation Choice\n",
    "\n",
    "# Student Transportation Choice Study\n",
    "\n",
    "Article Name: *Ride to the Hills, Ride to Your School: Physical Effort and Mode Choice*\n",
    "\n",
    "[*Source: Müller et al. (2008), Dresden, Germany*](https://papers.ssrn.com/sol3/papers.cfm?abstract_id=3860104)\n",
    "\n",
    "## Study Overview\n",
    "This research analyzed travel-to-school mode choices among over 4,000 young students in Dresden. Each student was observed twice: once in summer and once in winter term. The dataset includes detailed information about school locations, student residences, travel distances, and various student characteristics.\n",
    "\n",
    "## Variables\n",
    "\n",
    "### Temporal\n",
    "- **Season**: Binary indicator\n",
    "  - 1 = Winter term/bad weather\n",
    "  - 0 = Otherwise\n",
    "\n",
    "### Transportation\n",
    "- **Car Availability**: Binary indicator\n",
    "  - 1 = Car always available (as driver or passenger)\n",
    "  - 0 = Limited/no availability (includes partial weekly access)\n",
    "- **Mode**: Categorical indicator\n",
    "  - 1 = Walking\n",
    "  - 2 = Cycling\n",
    "  - 3 = Public Transport\n",
    "  - 4 = Car/MotorCycle\n",
    "- **Distance**: Travel distance to school (in kilometers)\n",
    "\n",
    "### Student Demographics\n",
    "- **Age**: Student's age in years\n",
    "- **Female**: Binary indicator\n",
    "  - 1 = Female\n",
    "  - 0 = Male\n",
    "- **Grade**: Student's grade level (5th through 12th)\n",
    "\n",
    "### Physical Factors\n",
    "- **Leistung**: Performance/effort measure\n",
    "  - Measured in kcal\n",
    "  - Represents energy input for transportation\n",
    "\n",
    "*Note: CB_Location variable was excluded due to undefined meaning in the source material.*\n",
    " "
   ]
  },
  {
   "cell_type": "code",
   "execution_count": 1,
   "id": "b00f2ae2",
   "metadata": {
    "execution": {
     "iopub.execute_input": "2024-11-05T04:11:35.982163Z",
     "iopub.status.busy": "2024-11-05T04:11:35.981689Z",
     "iopub.status.idle": "2024-11-05T04:11:36.911967Z",
     "shell.execute_reply": "2024-11-05T04:11:36.910748Z"
    },
    "papermill": {
     "duration": 0.937736,
     "end_time": "2024-11-05T04:11:36.914639",
     "exception": false,
     "start_time": "2024-11-05T04:11:35.976903",
     "status": "completed"
    },
    "tags": []
   },
   "outputs": [
    {
     "data": {
      "text/html": [
       "<div>\n",
       "<style scoped>\n",
       "    .dataframe tbody tr th:only-of-type {\n",
       "        vertical-align: middle;\n",
       "    }\n",
       "\n",
       "    .dataframe tbody tr th {\n",
       "        vertical-align: top;\n",
       "    }\n",
       "\n",
       "    .dataframe thead th {\n",
       "        text-align: right;\n",
       "    }\n",
       "</style>\n",
       "<table border=\"1\" class=\"dataframe\">\n",
       "  <thead>\n",
       "    <tr style=\"text-align: right;\">\n",
       "      <th></th>\n",
       "      <th>ID</th>\n",
       "      <th>Choice</th>\n",
       "      <th>Distance</th>\n",
       "      <th>School_location</th>\n",
       "      <th>Grade</th>\n",
       "      <th>Age</th>\n",
       "      <th>Gender</th>\n",
       "      <th>CarAvail</th>\n",
       "      <th>Season</th>\n",
       "      <th>Leistung</th>\n",
       "    </tr>\n",
       "  </thead>\n",
       "  <tbody>\n",
       "    <tr>\n",
       "      <th>0</th>\n",
       "      <td>1</td>\n",
       "      <td>2</td>\n",
       "      <td>6.03139</td>\n",
       "      <td>0</td>\n",
       "      <td>9</td>\n",
       "      <td>15</td>\n",
       "      <td>0</td>\n",
       "      <td>0</td>\n",
       "      <td>0</td>\n",
       "      <td>152.98</td>\n",
       "    </tr>\n",
       "    <tr>\n",
       "      <th>1</th>\n",
       "      <td>2</td>\n",
       "      <td>2</td>\n",
       "      <td>3.48652</td>\n",
       "      <td>0</td>\n",
       "      <td>9</td>\n",
       "      <td>15</td>\n",
       "      <td>1</td>\n",
       "      <td>0</td>\n",
       "      <td>0</td>\n",
       "      <td>64.67</td>\n",
       "    </tr>\n",
       "    <tr>\n",
       "      <th>2</th>\n",
       "      <td>3</td>\n",
       "      <td>4</td>\n",
       "      <td>5.33100</td>\n",
       "      <td>0</td>\n",
       "      <td>9</td>\n",
       "      <td>14</td>\n",
       "      <td>1</td>\n",
       "      <td>1</td>\n",
       "      <td>0</td>\n",
       "      <td>147.19</td>\n",
       "    </tr>\n",
       "    <tr>\n",
       "      <th>3</th>\n",
       "      <td>4</td>\n",
       "      <td>3</td>\n",
       "      <td>3.75005</td>\n",
       "      <td>0</td>\n",
       "      <td>9</td>\n",
       "      <td>15</td>\n",
       "      <td>0</td>\n",
       "      <td>0</td>\n",
       "      <td>0</td>\n",
       "      <td>1287.90</td>\n",
       "    </tr>\n",
       "    <tr>\n",
       "      <th>4</th>\n",
       "      <td>5</td>\n",
       "      <td>2</td>\n",
       "      <td>2.04100</td>\n",
       "      <td>0</td>\n",
       "      <td>9</td>\n",
       "      <td>15</td>\n",
       "      <td>1</td>\n",
       "      <td>0</td>\n",
       "      <td>0</td>\n",
       "      <td>35.36</td>\n",
       "    </tr>\n",
       "  </tbody>\n",
       "</table>\n",
       "</div>"
      ],
      "text/plain": [
       "   ID  Choice  Distance  School_location  Grade  Age  Gender  CarAvail  \\\n",
       "0   1       2   6.03139                0      9   15       0         0   \n",
       "1   2       2   3.48652                0      9   15       1         0   \n",
       "2   3       4   5.33100                0      9   14       1         1   \n",
       "3   4       3   3.75005                0      9   15       0         0   \n",
       "4   5       2   2.04100                0      9   15       1         0   \n",
       "\n",
       "   Season  Leistung  \n",
       "0       0    152.98  \n",
       "1       0     64.67  \n",
       "2       0    147.19  \n",
       "3       0   1287.90  \n",
       "4       0     35.36  "
      ]
     },
     "execution_count": 1,
     "metadata": {},
     "output_type": "execute_result"
    }
   ],
   "source": [
    "import pandas as pd\n",
    "\n",
    "df = pd.read_csv('/kaggle/input/student-mode-choice-data/StudentModeChoice.txt', sep='\\t')\n",
    "df.drop([\"CB_location\"],axis=1, inplace=True)\n",
    "df.head()"
   ]
  },
  {
   "cell_type": "code",
   "execution_count": 2,
   "id": "9db4d082",
   "metadata": {
    "execution": {
     "iopub.execute_input": "2024-11-05T04:11:36.924757Z",
     "iopub.status.busy": "2024-11-05T04:11:36.924318Z",
     "iopub.status.idle": "2024-11-05T04:11:36.935254Z",
     "shell.execute_reply": "2024-11-05T04:11:36.934085Z"
    },
    "papermill": {
     "duration": 0.018379,
     "end_time": "2024-11-05T04:11:36.937654",
     "exception": false,
     "start_time": "2024-11-05T04:11:36.919275",
     "status": "completed"
    },
    "tags": []
   },
   "outputs": [
    {
     "data": {
      "text/plain": [
       "ID                 0\n",
       "Choice             0\n",
       "Distance           0\n",
       "School_location    0\n",
       "Grade              0\n",
       "Age                0\n",
       "Gender             0\n",
       "CarAvail           0\n",
       "Season             0\n",
       "Leistung           0\n",
       "dtype: int64"
      ]
     },
     "execution_count": 2,
     "metadata": {},
     "output_type": "execute_result"
    }
   ],
   "source": [
    "df.isnull().sum() #no missingness"
   ]
  },
  {
   "cell_type": "code",
   "execution_count": 3,
   "id": "49c5abf0",
   "metadata": {
    "execution": {
     "iopub.execute_input": "2024-11-05T04:11:36.947285Z",
     "iopub.status.busy": "2024-11-05T04:11:36.946862Z",
     "iopub.status.idle": "2024-11-05T04:11:36.966103Z",
     "shell.execute_reply": "2024-11-05T04:11:36.964930Z"
    },
    "papermill": {
     "duration": 0.027076,
     "end_time": "2024-11-05T04:11:36.968570",
     "exception": false,
     "start_time": "2024-11-05T04:11:36.941494",
     "status": "completed"
    },
    "tags": []
   },
   "outputs": [
    {
     "data": {
      "text/plain": [
       "choice_names\n",
       "Public Transport    4675\n",
       "Walking             1858\n",
       "Cycling             1484\n",
       "Car/MotorCycle       539\n",
       "Name: count, dtype: int64"
      ]
     },
     "execution_count": 3,
     "metadata": {},
     "output_type": "execute_result"
    }
   ],
   "source": [
    "recode_choices = {1:\"Walking\",\n",
    "                 2: \"Cycling\",\n",
    "                 3: \"Public Transport\",\n",
    "                 4: \"Car/MotorCycle\"}\n",
    "\n",
    "recode_season = {1: \"Winter Term/Bad Weather\", 0:\"Otherwise\"}\n",
    "# recode the variable\n",
    "df[\"choice_names\"] = df[\"Choice\"].map(recode_choices)\n",
    "df[\"season_names\"] = df[\"Season\"].map(recode_season)\n",
    "df.choice_names.value_counts()"
   ]
  },
  {
   "cell_type": "code",
   "execution_count": 4,
   "id": "074e4365",
   "metadata": {
    "execution": {
     "iopub.execute_input": "2024-11-05T04:11:36.977796Z",
     "iopub.status.busy": "2024-11-05T04:11:36.977362Z",
     "iopub.status.idle": "2024-11-05T04:11:36.986850Z",
     "shell.execute_reply": "2024-11-05T04:11:36.985716Z"
    },
    "papermill": {
     "duration": 0.016702,
     "end_time": "2024-11-05T04:11:36.989079",
     "exception": false,
     "start_time": "2024-11-05T04:11:36.972377",
     "status": "completed"
    },
    "tags": []
   },
   "outputs": [
    {
     "data": {
      "text/plain": [
       "season_names\n",
       "Otherwise                  4278\n",
       "Winter Term/Bad Weather    4278\n",
       "Name: count, dtype: int64"
      ]
     },
     "execution_count": 4,
     "metadata": {},
     "output_type": "execute_result"
    }
   ],
   "source": [
    "df.season_names.value_counts()"
   ]
  },
  {
   "cell_type": "markdown",
   "id": "72718449",
   "metadata": {
    "papermill": {
     "duration": 0.003469,
     "end_time": "2024-11-05T04:11:36.996483",
     "exception": false,
     "start_time": "2024-11-05T04:11:36.993014",
     "status": "completed"
    },
    "tags": []
   },
   "source": [
    "## Exploratory Data Analysis"
   ]
  },
  {
   "cell_type": "code",
   "execution_count": 5,
   "id": "74b43641",
   "metadata": {
    "execution": {
     "iopub.execute_input": "2024-11-05T04:11:37.005649Z",
     "iopub.status.busy": "2024-11-05T04:11:37.005257Z",
     "iopub.status.idle": "2024-11-05T04:11:37.019399Z",
     "shell.execute_reply": "2024-11-05T04:11:37.018214Z"
    },
    "papermill": {
     "duration": 0.021951,
     "end_time": "2024-11-05T04:11:37.022250",
     "exception": false,
     "start_time": "2024-11-05T04:11:37.000299",
     "status": "completed"
    },
    "tags": []
   },
   "outputs": [],
   "source": [
    "total_students = df.groupby(['choice_names','season_names'])['ID'].count().reset_index()"
   ]
  },
  {
   "cell_type": "code",
   "execution_count": 6,
   "id": "4b0e5a22",
   "metadata": {
    "execution": {
     "iopub.execute_input": "2024-11-05T04:11:37.032018Z",
     "iopub.status.busy": "2024-11-05T04:11:37.031551Z",
     "iopub.status.idle": "2024-11-05T04:11:37.044382Z",
     "shell.execute_reply": "2024-11-05T04:11:37.042995Z"
    },
    "papermill": {
     "duration": 0.020876,
     "end_time": "2024-11-05T04:11:37.047085",
     "exception": false,
     "start_time": "2024-11-05T04:11:37.026209",
     "status": "completed"
    },
    "tags": []
   },
   "outputs": [
    {
     "data": {
      "text/html": [
       "<div>\n",
       "<style scoped>\n",
       "    .dataframe tbody tr th:only-of-type {\n",
       "        vertical-align: middle;\n",
       "    }\n",
       "\n",
       "    .dataframe tbody tr th {\n",
       "        vertical-align: top;\n",
       "    }\n",
       "\n",
       "    .dataframe thead th {\n",
       "        text-align: right;\n",
       "    }\n",
       "</style>\n",
       "<table border=\"1\" class=\"dataframe\">\n",
       "  <thead>\n",
       "    <tr style=\"text-align: right;\">\n",
       "      <th></th>\n",
       "      <th>choice_names</th>\n",
       "      <th>season_names</th>\n",
       "      <th>ID</th>\n",
       "    </tr>\n",
       "  </thead>\n",
       "  <tbody>\n",
       "    <tr>\n",
       "      <th>0</th>\n",
       "      <td>Car/MotorCycle</td>\n",
       "      <td>Otherwise</td>\n",
       "      <td>192</td>\n",
       "    </tr>\n",
       "    <tr>\n",
       "      <th>1</th>\n",
       "      <td>Car/MotorCycle</td>\n",
       "      <td>Winter Term/Bad Weather</td>\n",
       "      <td>347</td>\n",
       "    </tr>\n",
       "    <tr>\n",
       "      <th>2</th>\n",
       "      <td>Cycling</td>\n",
       "      <td>Otherwise</td>\n",
       "      <td>1133</td>\n",
       "    </tr>\n",
       "    <tr>\n",
       "      <th>3</th>\n",
       "      <td>Cycling</td>\n",
       "      <td>Winter Term/Bad Weather</td>\n",
       "      <td>351</td>\n",
       "    </tr>\n",
       "    <tr>\n",
       "      <th>4</th>\n",
       "      <td>Public Transport</td>\n",
       "      <td>Otherwise</td>\n",
       "      <td>2107</td>\n",
       "    </tr>\n",
       "    <tr>\n",
       "      <th>5</th>\n",
       "      <td>Public Transport</td>\n",
       "      <td>Winter Term/Bad Weather</td>\n",
       "      <td>2568</td>\n",
       "    </tr>\n",
       "    <tr>\n",
       "      <th>6</th>\n",
       "      <td>Walking</td>\n",
       "      <td>Otherwise</td>\n",
       "      <td>846</td>\n",
       "    </tr>\n",
       "    <tr>\n",
       "      <th>7</th>\n",
       "      <td>Walking</td>\n",
       "      <td>Winter Term/Bad Weather</td>\n",
       "      <td>1012</td>\n",
       "    </tr>\n",
       "  </tbody>\n",
       "</table>\n",
       "</div>"
      ],
      "text/plain": [
       "       choice_names             season_names    ID\n",
       "0    Car/MotorCycle                Otherwise   192\n",
       "1    Car/MotorCycle  Winter Term/Bad Weather   347\n",
       "2           Cycling                Otherwise  1133\n",
       "3           Cycling  Winter Term/Bad Weather   351\n",
       "4  Public Transport                Otherwise  2107\n",
       "5  Public Transport  Winter Term/Bad Weather  2568\n",
       "6           Walking                Otherwise   846\n",
       "7           Walking  Winter Term/Bad Weather  1012"
      ]
     },
     "execution_count": 6,
     "metadata": {},
     "output_type": "execute_result"
    }
   ],
   "source": [
    "total_students"
   ]
  },
  {
   "cell_type": "code",
   "execution_count": 7,
   "id": "c4d6dcda",
   "metadata": {
    "execution": {
     "iopub.execute_input": "2024-11-05T04:11:37.057802Z",
     "iopub.status.busy": "2024-11-05T04:11:37.056785Z",
     "iopub.status.idle": "2024-11-05T04:11:39.086936Z",
     "shell.execute_reply": "2024-11-05T04:11:39.085594Z"
    },
    "papermill": {
     "duration": 2.038327,
     "end_time": "2024-11-05T04:11:39.089591",
     "exception": false,
     "start_time": "2024-11-05T04:11:37.051264",
     "status": "completed"
    },
    "tags": []
   },
   "outputs": [
    {
     "data": {
      "text/plain": [
       "<Axes: xlabel='choice_names', ylabel='ID'>"
      ]
     },
     "execution_count": 7,
     "metadata": {},
     "output_type": "execute_result"
    },
    {
     "data": {
      "image/png": "[encoded data removed]",
      "text/plain": [
       "<Figure size 640x480 with 1 Axes>"
      ]
     },
     "metadata": {},
     "output_type": "display_data"
    }
   ],
   "source": [
    "import seaborn as sns\n",
    "\n",
    "sns.barplot(data=total_students, x='choice_names', y='ID',hue='season_names') "
   ]
  },
  {
   "cell_type": "code",
   "execution_count": 8,
   "id": "8492f373",
   "metadata": {
    "execution": {
     "iopub.execute_input": "2024-11-05T04:11:39.101469Z",
     "iopub.status.busy": "2024-11-05T04:11:39.100515Z",
     "iopub.status.idle": "2024-11-05T04:11:39.422062Z",
     "shell.execute_reply": "2024-11-05T04:11:39.420982Z"
    },
    "papermill": {
     "duration": 0.330061,
     "end_time": "2024-11-05T04:11:39.424582",
     "exception": false,
     "start_time": "2024-11-05T04:11:39.094521",
     "status": "completed"
    },
    "tags": []
   },
   "outputs": [
    {
     "data": {
      "text/plain": [
       "<Axes: xlabel='choice_names', ylabel='Leistung'>"
      ]
     },
     "execution_count": 8,
     "metadata": {},
     "output_type": "execute_result"
    },
    {
     "data": {
      "image/png": "[encoded data removed]",
      "text/plain": [
       "<Figure size 640x480 with 1 Axes>"
      ]
     },
     "metadata": {},
     "output_type": "display_data"
    }
   ],
   "source": [
    "#this is the opposite of what I expected\n",
    "sns.barplot(data = df, x='choice_names', y='Leistung')"
   ]
  }
 ],
 "metadata": {
  "kaggle": {
   "accelerator": "none",
   "dataSources": [
    {
     "datasetId": 3405033,
     "sourceId": 5931004,
     "sourceType": "datasetVersion"
    }
   ],
   "dockerImageVersionId": 30786,
   "isGpuEnabled": false,
   "isInternetEnabled": true,
   "language": "python",
   "sourceType": "notebook"
  },
  "kernelspec": {
   "display_name": "Python 3",
   "language": "python",
   "name": "python3"
  },
  "language_info": {
   "codemirror_mode": {
    "name": "ipython",
    "version": 3
   },
   "file_extension": ".py",
   "mimetype": "text/x-python",
   "name": "python",
   "nbconvert_exporter": "python",
   "pygments_lexer": "ipython3",
   "version": "3.10.14"
  },
  "papermill": {
   "default_parameters": {},
   "duration": 6.848596,
   "end_time": "2024-11-05T04:11:40.050808",
   "environment_variables": {},
   "exception": null,
   "input_path": "__notebook__.ipynb",
   "output_path": "__notebook__.ipynb",
   "parameters": {},
   "start_time": "2024-11-05T04:11:33.202212",
   "version": "2.6.0"
  }
 },
 "nbformat": 4,
 "nbformat_minor": 5
}
