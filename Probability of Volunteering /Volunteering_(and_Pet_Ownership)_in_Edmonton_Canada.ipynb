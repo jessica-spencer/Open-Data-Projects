{
 "cells": [
  {
   "cell_type": "markdown",
   "metadata": {
    "id": "4TlVmy7tfQWj"
   },
   "source": [
    "# Probability of Volunteering? \n",
    "### Pet Ownership and Education in Edmonton, CA\n",
    "\n",
    "\n",
    "I found an interesting dataset from Edmonton, Canada, that surveys residents for demographics, and information on their pet ownership.  I noticed that they captured information on whether or not participants volunteered, and I wondered, *does pet ownership have a relationship with volunteering?*  To measure pet ownership, I created columns for whether or not the participant owned a pet, and how many pets they owned. I also brought in information on educational attainment and household income. \n",
    "\n",
    "What follows is \n",
    "- data cleaning\n",
    "- missingness analysis\n",
    "- exploratory data analysis\n",
    "- logistic regression modelling and evaluation\n",
    "- prediction metrics gathered.\n",
    "\n",
    "CONCLUSION: \n",
    "Overall, I found that there is a small amount of evidence that educational attainment has a positive relationship with whether a participant volunteers. There is no relationship between pet ownership and volunteering. However, as the model does not explain volunteering very well, my confidence in this interpretation is low.\n",
    "\n"
   ]
  },
  {
   "cell_type": "markdown",
   "metadata": {
    "id": "8O7iHDj3gNir"
   },
   "source": [
    "## Data Import and Cleaning"
   ]
  },
  {
   "cell_type": "code",
   "execution_count": 2,
   "metadata": {
    "colab": {
     "base_uri": "https://localhost:8080/",
     "height": 342
    },
    "id": "xrVaipU7Yv2A",
    "outputId": "d95d11ac-c684-4d34-bba7-ccc087877217"
   },
   "outputs": [
    {
     "data": {
      "text/html": [
       "<div>\n",
       "<style scoped>\n",
       "    .dataframe tbody tr th:only-of-type {\n",
       "        vertical-align: middle;\n",
       "    }\n",
       "\n",
       "    .dataframe tbody tr th {\n",
       "        vertical-align: top;\n",
       "    }\n",
       "\n",
       "    .dataframe thead th {\n",
       "        text-align: right;\n",
       "    }\n",
       "</style>\n",
       "<table border=\"1\" class=\"dataframe\">\n",
       "  <thead>\n",
       "    <tr style=\"text-align: right;\">\n",
       "      <th></th>\n",
       "      <th>responsedate</th>\n",
       "      <th>completiondate</th>\n",
       "      <th>q18_ownpets</th>\n",
       "      <th>q19_petkinds_dog</th>\n",
       "      <th>q19_petkinds_bird</th>\n",
       "      <th>q19_petkinds_fish</th>\n",
       "      <th>q19_petkinds_cat</th>\n",
       "      <th>q19_petkinds_marsupial</th>\n",
       "      <th>q19_petkinds_insect</th>\n",
       "      <th>q19_petkinds_reptile</th>\n",
       "      <th>...</th>\n",
       "      <th>q26_licensefundingprompt</th>\n",
       "      <th>q24_licensingmethod_placement_of_in_person_kiosks_at_malls_or_community_events</th>\n",
       "      <th>q24_licensingmethod_at_my_local_pet_supply_store</th>\n",
       "      <th>q24_licensingmethod_at_my_veterinary_clinic</th>\n",
       "      <th>q24_licensingmethod_licensing_staff_member_at_off_leash_dog_parks</th>\n",
       "      <th>q24_licensingmethod_ability_to_pay_for_my_pet_license_with_my_property_taxes</th>\n",
       "      <th>q24_licensingmethod_smartphone_app</th>\n",
       "      <th>q24_licensingmethod_i_don_t_believe_that_any_additional_licensing_method_would_realistically_help_me_change_my_mind_and_start_licensing_my_pets</th>\n",
       "      <th>q24_licensingmethod_other</th>\n",
       "      <th>q9b_live_before_edmonton_study_profiling_questionnaire_2014</th>\n",
       "    </tr>\n",
       "  </thead>\n",
       "  <tbody>\n",
       "    <tr>\n",
       "      <th>0</th>\n",
       "      <td>2015-05-19T21:44:00.000</td>\n",
       "      <td>2015-05-19T22:02:00.000</td>\n",
       "      <td>Yes</td>\n",
       "      <td>1.0</td>\n",
       "      <td>0.0</td>\n",
       "      <td>0.0</td>\n",
       "      <td>0.0</td>\n",
       "      <td>0.0</td>\n",
       "      <td>0.0</td>\n",
       "      <td>0.0</td>\n",
       "      <td>...</td>\n",
       "      <td>NaN</td>\n",
       "      <td>NaN</td>\n",
       "      <td>NaN</td>\n",
       "      <td>NaN</td>\n",
       "      <td>NaN</td>\n",
       "      <td>NaN</td>\n",
       "      <td>NaN</td>\n",
       "      <td>NaN</td>\n",
       "      <td>NaN</td>\n",
       "      <td>NaN</td>\n",
       "    </tr>\n",
       "    <tr>\n",
       "      <th>1</th>\n",
       "      <td>2015-05-12T11:51:00.000</td>\n",
       "      <td>2015-05-12T11:55:00.000</td>\n",
       "      <td>Yes</td>\n",
       "      <td>1.0</td>\n",
       "      <td>0.0</td>\n",
       "      <td>0.0</td>\n",
       "      <td>0.0</td>\n",
       "      <td>1.0</td>\n",
       "      <td>0.0</td>\n",
       "      <td>1.0</td>\n",
       "      <td>...</td>\n",
       "      <td>NaN</td>\n",
       "      <td>NaN</td>\n",
       "      <td>NaN</td>\n",
       "      <td>NaN</td>\n",
       "      <td>NaN</td>\n",
       "      <td>NaN</td>\n",
       "      <td>NaN</td>\n",
       "      <td>NaN</td>\n",
       "      <td>NaN</td>\n",
       "      <td>NaN</td>\n",
       "    </tr>\n",
       "    <tr>\n",
       "      <th>2</th>\n",
       "      <td>2015-05-12T09:19:00.000</td>\n",
       "      <td>2015-05-12T09:37:00.000</td>\n",
       "      <td>Yes</td>\n",
       "      <td>1.0</td>\n",
       "      <td>0.0</td>\n",
       "      <td>0.0</td>\n",
       "      <td>1.0</td>\n",
       "      <td>0.0</td>\n",
       "      <td>0.0</td>\n",
       "      <td>0.0</td>\n",
       "      <td>...</td>\n",
       "      <td>NaN</td>\n",
       "      <td>NaN</td>\n",
       "      <td>NaN</td>\n",
       "      <td>NaN</td>\n",
       "      <td>NaN</td>\n",
       "      <td>NaN</td>\n",
       "      <td>NaN</td>\n",
       "      <td>NaN</td>\n",
       "      <td>NaN</td>\n",
       "      <td>NaN</td>\n",
       "    </tr>\n",
       "    <tr>\n",
       "      <th>3</th>\n",
       "      <td>2015-05-12T11:50:00.000</td>\n",
       "      <td>2015-05-12T12:05:00.000</td>\n",
       "      <td>Yes</td>\n",
       "      <td>0.0</td>\n",
       "      <td>0.0</td>\n",
       "      <td>0.0</td>\n",
       "      <td>1.0</td>\n",
       "      <td>0.0</td>\n",
       "      <td>0.0</td>\n",
       "      <td>0.0</td>\n",
       "      <td>...</td>\n",
       "      <td>NaN</td>\n",
       "      <td>NaN</td>\n",
       "      <td>NaN</td>\n",
       "      <td>NaN</td>\n",
       "      <td>NaN</td>\n",
       "      <td>NaN</td>\n",
       "      <td>NaN</td>\n",
       "      <td>NaN</td>\n",
       "      <td>NaN</td>\n",
       "      <td>NaN</td>\n",
       "    </tr>\n",
       "    <tr>\n",
       "      <th>4</th>\n",
       "      <td>2015-05-15T13:04:00.000</td>\n",
       "      <td>2015-05-15T13:14:00.000</td>\n",
       "      <td>Yes</td>\n",
       "      <td>1.0</td>\n",
       "      <td>0.0</td>\n",
       "      <td>0.0</td>\n",
       "      <td>0.0</td>\n",
       "      <td>0.0</td>\n",
       "      <td>0.0</td>\n",
       "      <td>1.0</td>\n",
       "      <td>...</td>\n",
       "      <td>NaN</td>\n",
       "      <td>NaN</td>\n",
       "      <td>NaN</td>\n",
       "      <td>NaN</td>\n",
       "      <td>NaN</td>\n",
       "      <td>NaN</td>\n",
       "      <td>NaN</td>\n",
       "      <td>NaN</td>\n",
       "      <td>NaN</td>\n",
       "      <td>NaN</td>\n",
       "    </tr>\n",
       "  </tbody>\n",
       "</table>\n",
       "<p>5 rows × 51 columns</p>\n",
       "</div>"
      ],
      "text/plain": [
       "              responsedate           completiondate q18_ownpets  \\\n",
       "0  2015-05-19T21:44:00.000  2015-05-19T22:02:00.000         Yes   \n",
       "1  2015-05-12T11:51:00.000  2015-05-12T11:55:00.000         Yes   \n",
       "2  2015-05-12T09:19:00.000  2015-05-12T09:37:00.000         Yes   \n",
       "3  2015-05-12T11:50:00.000  2015-05-12T12:05:00.000         Yes   \n",
       "4  2015-05-15T13:04:00.000  2015-05-15T13:14:00.000         Yes   \n",
       "\n",
       "   q19_petkinds_dog  q19_petkinds_bird  q19_petkinds_fish  q19_petkinds_cat  \\\n",
       "0               1.0                0.0                0.0               0.0   \n",
       "1               1.0                0.0                0.0               0.0   \n",
       "2               1.0                0.0                0.0               1.0   \n",
       "3               0.0                0.0                0.0               1.0   \n",
       "4               1.0                0.0                0.0               0.0   \n",
       "\n",
       "   q19_petkinds_marsupial  q19_petkinds_insect  q19_petkinds_reptile  ...  \\\n",
       "0                     0.0                  0.0                   0.0  ...   \n",
       "1                     1.0                  0.0                   1.0  ...   \n",
       "2                     0.0                  0.0                   0.0  ...   \n",
       "3                     0.0                  0.0                   0.0  ...   \n",
       "4                     0.0                  0.0                   1.0  ...   \n",
       "\n",
       "   q26_licensefundingprompt  \\\n",
       "0                       NaN   \n",
       "1                       NaN   \n",
       "2                       NaN   \n",
       "3                       NaN   \n",
       "4                       NaN   \n",
       "\n",
       "   q24_licensingmethod_placement_of_in_person_kiosks_at_malls_or_community_events  \\\n",
       "0                                                NaN                                \n",
       "1                                                NaN                                \n",
       "2                                                NaN                                \n",
       "3                                                NaN                                \n",
       "4                                                NaN                                \n",
       "\n",
       "   q24_licensingmethod_at_my_local_pet_supply_store  \\\n",
       "0                                               NaN   \n",
       "1                                               NaN   \n",
       "2                                               NaN   \n",
       "3                                               NaN   \n",
       "4                                               NaN   \n",
       "\n",
       "  q24_licensingmethod_at_my_veterinary_clinic  \\\n",
       "0                                         NaN   \n",
       "1                                         NaN   \n",
       "2                                         NaN   \n",
       "3                                         NaN   \n",
       "4                                         NaN   \n",
       "\n",
       "  q24_licensingmethod_licensing_staff_member_at_off_leash_dog_parks  \\\n",
       "0                                                NaN                  \n",
       "1                                                NaN                  \n",
       "2                                                NaN                  \n",
       "3                                                NaN                  \n",
       "4                                                NaN                  \n",
       "\n",
       "  q24_licensingmethod_ability_to_pay_for_my_pet_license_with_my_property_taxes  \\\n",
       "0                                                NaN                             \n",
       "1                                                NaN                             \n",
       "2                                                NaN                             \n",
       "3                                                NaN                             \n",
       "4                                                NaN                             \n",
       "\n",
       "  q24_licensingmethod_smartphone_app  \\\n",
       "0                                NaN   \n",
       "1                                NaN   \n",
       "2                                NaN   \n",
       "3                                NaN   \n",
       "4                                NaN   \n",
       "\n",
       "  q24_licensingmethod_i_don_t_believe_that_any_additional_licensing_method_would_realistically_help_me_change_my_mind_and_start_licensing_my_pets  \\\n",
       "0                                                NaN                                                                                                \n",
       "1                                                NaN                                                                                                \n",
       "2                                                NaN                                                                                                \n",
       "3                                                NaN                                                                                                \n",
       "4                                                NaN                                                                                                \n",
       "\n",
       "  q24_licensingmethod_other  \\\n",
       "0                       NaN   \n",
       "1                       NaN   \n",
       "2                       NaN   \n",
       "3                       NaN   \n",
       "4                       NaN   \n",
       "\n",
       "  q9b_live_before_edmonton_study_profiling_questionnaire_2014  \n",
       "0                                                NaN           \n",
       "1                                                NaN           \n",
       "2                                                NaN           \n",
       "3                                                NaN           \n",
       "4                                                NaN           \n",
       "\n",
       "[5 rows x 51 columns]"
      ]
     },
     "execution_count": 2,
     "metadata": {},
     "output_type": "execute_result"
    }
   ],
   "source": [
    "# metadata here: http://www.opendatanetwork.com/dataset/data.edmonton.ca/5i9e-rgab\n",
    "import pandas as pd\n",
    "df = pd.read_json(\"https://data.edmonton.ca/resource/5i9e-rgab.json\")\n",
    "df.head()"
   ]
  },
  {
   "cell_type": "code",
   "execution_count": 3,
   "metadata": {
    "id": "YzchEsp6eqTa"
   },
   "outputs": [],
   "source": [
    "full_df = df.copy()"
   ]
  },
  {
   "cell_type": "code",
   "execution_count": 4,
   "metadata": {
    "id": "KQdoCraeZnbE"
   },
   "outputs": [],
   "source": [
    "\n",
    "columns_to_sum = ['q19_petkinds_dog', 'q19_petkinds_bird',\n",
    "                  'q19_petkinds_fish', 'q19_petkinds_cat',\n",
    "                  'q19_petkinds_marsupial', 'q19_petkinds_insect',\n",
    "                  'q19_petkinds_reptile', 'q19_petkinds_rodent', 'q19_petkinds_other']\n",
    "df['sum_pet_types'] = df[columns_to_sum].sum(axis=1)\n",
    "\n",
    "cols = ['q18_ownpets','q12_employment_status_study_profiling_questionnaire_2014',\n",
    "        'q13_volunteer_study_profiling_questionnaire_2014',\n",
    "        'q14a_primary_transportation_study_profiling_questionnaire_2014',\n",
    "        'q15_household_income_study_profiling_questionnaire_2014',\n",
    "        'q16_education_study_profiling_questionnaire_2014', 'sum_pet_types', 'q20_numberpets']\n",
    "df = df[cols]"
   ]
  },
  {
   "cell_type": "code",
   "execution_count": 5,
   "metadata": {
    "colab": {
     "base_uri": "https://localhost:8080/",
     "height": 226
    },
    "id": "_08BuRV4akjw",
    "outputId": "bb6dd318-fd7f-4b31-b4a3-1a108a0c5b0d"
   },
   "outputs": [
    {
     "data": {
      "text/html": [
       "<div>\n",
       "<style scoped>\n",
       "    .dataframe tbody tr th:only-of-type {\n",
       "        vertical-align: middle;\n",
       "    }\n",
       "\n",
       "    .dataframe tbody tr th {\n",
       "        vertical-align: top;\n",
       "    }\n",
       "\n",
       "    .dataframe thead th {\n",
       "        text-align: right;\n",
       "    }\n",
       "</style>\n",
       "<table border=\"1\" class=\"dataframe\">\n",
       "  <thead>\n",
       "    <tr style=\"text-align: right;\">\n",
       "      <th></th>\n",
       "      <th>q18_ownpets</th>\n",
       "      <th>q12_employment_status_study_profiling_questionnaire_2014</th>\n",
       "      <th>q13_volunteer_study_profiling_questionnaire_2014</th>\n",
       "      <th>q14a_primary_transportation_study_profiling_questionnaire_2014</th>\n",
       "      <th>q15_household_income_study_profiling_questionnaire_2014</th>\n",
       "      <th>q16_education_study_profiling_questionnaire_2014</th>\n",
       "      <th>sum_pet_types</th>\n",
       "      <th>q20_numberpets</th>\n",
       "    </tr>\n",
       "  </thead>\n",
       "  <tbody>\n",
       "    <tr>\n",
       "      <th>0</th>\n",
       "      <td>Yes</td>\n",
       "      <td>Employed full-time (30+ hours a week)</td>\n",
       "      <td>Yes</td>\n",
       "      <td>Bicycle</td>\n",
       "      <td>$80,000 to $99,999</td>\n",
       "      <td>Post-graduate degree</td>\n",
       "      <td>1.0</td>\n",
       "      <td>1.0</td>\n",
       "    </tr>\n",
       "    <tr>\n",
       "      <th>1</th>\n",
       "      <td>Yes</td>\n",
       "      <td>Employed full-time (30+ hours a week)</td>\n",
       "      <td>Yes</td>\n",
       "      <td>Car/truck/Van as DRIVER</td>\n",
       "      <td>$100,000 to $149,000</td>\n",
       "      <td>University undergraduate degree</td>\n",
       "      <td>4.0</td>\n",
       "      <td>NaN</td>\n",
       "    </tr>\n",
       "    <tr>\n",
       "      <th>2</th>\n",
       "      <td>Yes</td>\n",
       "      <td>Employed full-time (30+ hours a week)</td>\n",
       "      <td>No</td>\n",
       "      <td>Car/truck/van as PASSENGER</td>\n",
       "      <td>$100,000 to $149,000</td>\n",
       "      <td>University undergraduate degree</td>\n",
       "      <td>2.0</td>\n",
       "      <td>2.0</td>\n",
       "    </tr>\n",
       "    <tr>\n",
       "      <th>3</th>\n",
       "      <td>Yes</td>\n",
       "      <td>Employed full-time (30+ hours a week)</td>\n",
       "      <td>Yes</td>\n",
       "      <td>Car/truck/Van as DRIVER</td>\n",
       "      <td>$80,000 to $99,999</td>\n",
       "      <td>University undergraduate degree</td>\n",
       "      <td>1.0</td>\n",
       "      <td>2.0</td>\n",
       "    </tr>\n",
       "    <tr>\n",
       "      <th>4</th>\n",
       "      <td>Yes</td>\n",
       "      <td>Employed full-time (30+ hours a week)</td>\n",
       "      <td>Yes</td>\n",
       "      <td>Car/truck/Van as DRIVER</td>\n",
       "      <td>$100,000 to $149,000</td>\n",
       "      <td>University undergraduate degree</td>\n",
       "      <td>2.0</td>\n",
       "      <td>2.0</td>\n",
       "    </tr>\n",
       "  </tbody>\n",
       "</table>\n",
       "</div>"
      ],
      "text/plain": [
       "  q18_ownpets q12_employment_status_study_profiling_questionnaire_2014  \\\n",
       "0         Yes              Employed full-time (30+ hours a week)         \n",
       "1         Yes              Employed full-time (30+ hours a week)         \n",
       "2         Yes              Employed full-time (30+ hours a week)         \n",
       "3         Yes              Employed full-time (30+ hours a week)         \n",
       "4         Yes              Employed full-time (30+ hours a week)         \n",
       "\n",
       "  q13_volunteer_study_profiling_questionnaire_2014  \\\n",
       "0                                              Yes   \n",
       "1                                              Yes   \n",
       "2                                               No   \n",
       "3                                              Yes   \n",
       "4                                              Yes   \n",
       "\n",
       "  q14a_primary_transportation_study_profiling_questionnaire_2014  \\\n",
       "0                                            Bicycle               \n",
       "1                            Car/truck/Van as DRIVER               \n",
       "2                         Car/truck/van as PASSENGER               \n",
       "3                            Car/truck/Van as DRIVER               \n",
       "4                            Car/truck/Van as DRIVER               \n",
       "\n",
       "  q15_household_income_study_profiling_questionnaire_2014  \\\n",
       "0                                 $80,000 to $99,999        \n",
       "1                               $100,000 to $149,000        \n",
       "2                               $100,000 to $149,000        \n",
       "3                                 $80,000 to $99,999        \n",
       "4                               $100,000 to $149,000        \n",
       "\n",
       "  q16_education_study_profiling_questionnaire_2014  sum_pet_types  \\\n",
       "0                             Post-graduate degree            1.0   \n",
       "1                  University undergraduate degree            4.0   \n",
       "2                  University undergraduate degree            2.0   \n",
       "3                  University undergraduate degree            1.0   \n",
       "4                  University undergraduate degree            2.0   \n",
       "\n",
       "   q20_numberpets  \n",
       "0             1.0  \n",
       "1             NaN  \n",
       "2             2.0  \n",
       "3             2.0  \n",
       "4             2.0  "
      ]
     },
     "execution_count": 5,
     "metadata": {},
     "output_type": "execute_result"
    }
   ],
   "source": [
    "df[cols].head()"
   ]
  },
  {
   "cell_type": "code",
   "execution_count": 6,
   "metadata": {
    "colab": {
     "base_uri": "https://localhost:8080/"
    },
    "id": "28Uav44qc0qd",
    "outputId": "c8932b7c-ba10-42ba-e9bf-ad2fdb9cf652"
   },
   "outputs": [
    {
     "data": {
      "text/plain": [
       "Index(['q18_ownpets',\n",
       "       'q12_employment_status_study_profiling_questionnaire_2014',\n",
       "       'q13_volunteer_study_profiling_questionnaire_2014',\n",
       "       'q14a_primary_transportation_study_profiling_questionnaire_2014',\n",
       "       'q15_household_income_study_profiling_questionnaire_2014',\n",
       "       'q16_education_study_profiling_questionnaire_2014', 'sum_pet_types',\n",
       "       'q20_numberpets'],\n",
       "      dtype='object')"
      ]
     },
     "execution_count": 6,
     "metadata": {},
     "output_type": "execute_result"
    }
   ],
   "source": [
    "df.columns"
   ]
  },
  {
   "cell_type": "code",
   "execution_count": 7,
   "metadata": {
    "colab": {
     "base_uri": "https://localhost:8080/",
     "height": 304
    },
    "id": "M2XtjRGfc2Tp",
    "outputId": "7753ec45-2044-497e-9eed-b27b88b8fb95"
   },
   "outputs": [
    {
     "data": {
      "text/plain": [
       "q16_education_study_profiling_questionnaire_2014\n",
       "University undergraduate degree                                                            365\n",
       "College / technical school graduate                                                        229\n",
       "Post-graduate degree                                                                       226\n",
       "High school graduate                                                                       118\n",
       "Professional school graduate (e.g. medicine, dentistry, veterinary medicine, optometry)     36\n",
       "Elementary/grade school graduate                                                             6\n",
       "Name: count, dtype: int64"
      ]
     },
     "execution_count": 7,
     "metadata": {},
     "output_type": "execute_result"
    }
   ],
   "source": [
    "#Q: In the last 12 months, did you do any activities without pay on behalf of a group or an organization as a volunteer?\n",
    "df.q16_education_study_profiling_questionnaire_2014.value_counts()"
   ]
  },
  {
   "cell_type": "code",
   "execution_count": 8,
   "metadata": {
    "colab": {
     "base_uri": "https://localhost:8080/"
    },
    "id": "QtsnN-1zfPFX",
    "outputId": "f963191f-0300-484d-b720-0a498449c279"
   },
   "outputs": [
    {
     "name": "stdout",
     "output_type": "stream",
     "text": [
      "Index(['q18_ownpets',\n",
      "       'q12_employment_status_study_profiling_questionnaire_2014', 'volunteer',\n",
      "       'q14a_primary_transportation_study_profiling_questionnaire_2014',\n",
      "       'household_income', 'educational_attainment', 'sum_pet_types',\n",
      "       'q20_numberpets'],\n",
      "      dtype='object')\n"
     ]
    }
   ],
   "source": [
    "df.rename(columns={'q13_volunteer_study_profiling_questionnaire_2014': 'volunteer',\n",
    "                   'q15_household_income_study_profiling_questionnaire_2014':'household_income',\n",
    "                   'q16_education_study_profiling_questionnaire_2014': 'educational_attainment'}, inplace=True)\n",
    "print(df.columns)\n"
   ]
  },
  {
   "cell_type": "code",
   "execution_count": 9,
   "metadata": {
    "colab": {
     "base_uri": "https://localhost:8080/",
     "height": 366
    },
    "id": "npySIteJdA21",
    "outputId": "16cf1c98-5a66-44ab-f9bb-f1c01e240bf2"
   },
   "outputs": [
    {
     "data": {
      "text/plain": [
       "employment\n",
       "Full Time         652\n",
       "Retired           116\n",
       "Part Time          89\n",
       "Student            33\n",
       "Homemaker          33\n",
       "Other              29\n",
       "Unemployed         18\n",
       "Unable to Work     10\n",
       "Name: count, dtype: int64"
      ]
     },
     "execution_count": 9,
     "metadata": {},
     "output_type": "execute_result"
    }
   ],
   "source": [
    "# create a dict of old and new values\n",
    "recode = {\"Employed full-time (30+ hours a week)\": \"Full Time\",\n",
    "          \"Employed part-time (0-30 hours a week)\": \"Part Time\",\n",
    "          \"Retired\" : \"Retired\",\n",
    "          \"Homemaker\" : \"Homemaker\",\n",
    "          \"Unemployed\" : \"Unemployed\",\n",
    "          \"Post-secondary student\" : \"Student\",\n",
    "          \"High School Student\": \"Student\",\n",
    "          \"Permanently unable to Work\": \"Unable to Work\",\n",
    "          \"Other (Specify)\" : \"Other\"}\n",
    "\n",
    "# recode the variable\n",
    "df[\"employment\"] = df[\"q12_employment_status_study_profiling_questionnaire_2014\"].map(recode)\n",
    "\n",
    "# check value counts\n",
    "df.employment.value_counts()\n"
   ]
  },
  {
   "cell_type": "code",
   "execution_count": 10,
   "metadata": {
    "id": "MyHvrwQ2gWym"
   },
   "outputs": [],
   "source": [
    "# create a dict of old and new values\n",
    "recode = {\"University undergraduate degree\": \"Undergraduate\",\n",
    "          \"College / technical school graduate\": \"College or Tech\",\n",
    "          \"Post-graduate degree\" : \"Post-Graduate\",\n",
    "          \"High school graduate\" : \"High School\",\n",
    "          \"Professional school graduate (e.g. medicine, dentistry, veterinary medicine, optometry)\" : \"Professional Post-Graduate\",\n",
    "          \"Elementary/grade school graduate\" : \"Grade School\",\n",
    "          }\n",
    "\n",
    "# recode the variable\n",
    "df.educational_attainment = df.educational_attainment.map(recode)"
   ]
  },
  {
   "cell_type": "code",
   "execution_count": 11,
   "metadata": {
    "id": "iEJjJzhAfpXY"
   },
   "outputs": [],
   "source": [
    "df = df.drop(columns =['q12_employment_status_study_profiling_questionnaire_2014','q14a_primary_transportation_study_profiling_questionnaire_2014','q20_numberpets'] )"
   ]
  },
  {
   "cell_type": "code",
   "execution_count": 12,
   "metadata": {
    "id": "1NPkuA0_T7lD"
   },
   "outputs": [],
   "source": [
    "edu_order = ['Grade School','High School',  'College or Tech',\n",
    "             'Undergraduate', 'Post-Graduate', 'Professional Post-Graduate']"
   ]
  },
  {
   "cell_type": "code",
   "execution_count": 13,
   "metadata": {
    "id": "pmotQIxg2PwP"
   },
   "outputs": [],
   "source": [
    "df['educational_attainment_encoded'] = pd.Categorical(df['educational_attainment'],\n",
    "     categories=edu_order, ordered=True)"
   ]
  },
  {
   "cell_type": "code",
   "execution_count": 14,
   "metadata": {
    "id": "p3whSabRsnQz"
   },
   "outputs": [],
   "source": [
    "income_order = ['Under $25,000', '$25,000 to $49,999',\n",
    "                '$50,000 to $74,999', '$75,000 to $99,999',\n",
    "                '$100,000 to $124,999', '$125,000 to $149,999',\n",
    "                '$150,000 to $199,999', '$200,000 and over',\n",
    "                \"Don't know\", 'Prefer not to answer']\n",
    "df['household_income_encoded'] = pd.Categorical(df['household_income'],\n",
    "     categories=income_order, ordered=True)"
   ]
  },
  {
   "cell_type": "code",
   "execution_count": 15,
   "metadata": {
    "id": "y-T0Ic0S-wL6"
   },
   "outputs": [],
   "source": [
    "import pandas as pd\n",
    "income_order = ['Prefer not to answer', 'Under $20,000', '$20,000 to $29,999', '$30,000 to $39,999',\n",
    "                '$40,000 to $49,999', '$50,000 to $59,999', '$60,000 to $79,999',\n",
    "                '$80,000 to $99,999', '$100,000 to $149,000', \"$150,000 and over\"]\n",
    "df['household_income_encoded'] = pd.Categorical(df['household_income'], categories=income_order, ordered=True)\n"
   ]
  },
  {
   "cell_type": "markdown",
   "metadata": {
    "id": "HuVA-_1BgW4P"
   },
   "source": [
    "## Graphing Distributions"
   ]
  },
  {
   "cell_type": "code",
   "execution_count": 16,
   "metadata": {
    "colab": {
     "base_uri": "https://localhost:8080/",
     "height": 449
    },
    "id": "k5T6sYsE8M7d",
    "outputId": "bea16dc9-8abc-4b2b-db60-dda97fb54ffc"
   },
   "outputs": [
    {
     "data": {
      "image/png": "[encoded data removed]",
      "text/plain": [
       "<Figure size 640x480 with 1 Axes>"
      ]
     },
     "metadata": {},
     "output_type": "display_data"
    }
   ],
   "source": [
    "import seaborn as sns\n",
    "import matplotlib.pyplot as plt\n",
    "\n",
    "sns.countplot(x='volunteer', data=df)\n",
    "plt.show()"
   ]
  },
  {
   "cell_type": "code",
   "execution_count": 17,
   "metadata": {
    "colab": {
     "base_uri": "https://localhost:8080/",
     "height": 911
    },
    "id": "7G7WH8MVUqmK",
    "outputId": "bec867b2-1478-4654-8ccd-470e4e316186"
   },
   "outputs": [
    {
     "data": {
      "image/png": "[encoded data removed]",
      "text/plain": [
       "<Figure size 1500x1000 with 4 Axes>"
      ]
     },
     "metadata": {},
     "output_type": "display_data"
    }
   ],
   "source": [
    "# Create a grid of subplots\n",
    "fig, axes = plt.subplots(2, 2, figsize=(15, 10))\n",
    "\n",
    "# Plot the distribution of each column\n",
    "sns.countplot(x='q18_ownpets', data=df, ax=axes[0, 0], hue='volunteer')\n",
    "sns.countplot(x='household_income_encoded', data=df, ax=axes[0, 1], hue='volunteer')\n",
    "sns.countplot(x='educational_attainment_encoded', data=df, ax=axes[1, 0], hue='volunteer')\n",
    "sns.countplot(x='sum_pet_types', data=df, ax=axes[1, 1],hue='volunteer')\n",
    "\n",
    "# Rotate x-axis labels for better readability\n",
    "for ax in axes.flat:\n",
    "  ax.tick_params(axis='x', rotation=90)\n",
    "\n",
    "# Adjust layout and display the plot\n",
    "plt.tight_layout()\n",
    "plt.show()\n"
   ]
  },
  {
   "cell_type": "markdown",
   "metadata": {
    "id": "FZE0o4AP8Ivt"
   },
   "source": [
    "Two-thirds of the dataset volunteers, and visually it seems as though these people are well spread out among all categories. But there could be a relationship here that's hard to visually detect."
   ]
  },
  {
   "cell_type": "markdown",
   "metadata": {},
   "source": [
    "## Missingness Analysis\n"
   ]
  },
  {
   "cell_type": "code",
   "execution_count": 18,
   "metadata": {},
   "outputs": [
    {
     "data": {
      "text/plain": [
       "<Axes: >"
      ]
     },
     "execution_count": 18,
     "metadata": {},
     "output_type": "execute_result"
    },
    {
     "data": {
      "image/png": "[encoded data removed]",
      "text/plain": [
       "<Figure size 2400x1000 with 3 Axes>"
      ]
     },
     "metadata": {},
     "output_type": "display_data"
    }
   ],
   "source": [
    "%matplotlib inline\n",
    "import missingno as msno\n",
    "\n",
    "msno.bar(df)\n"
   ]
  },
  {
   "cell_type": "code",
   "execution_count": 19,
   "metadata": {
    "colab": {
     "base_uri": "https://localhost:8080/"
    },
    "id": "8G4t2985gsfH",
    "outputId": "0f21b1d6-c97b-4f1c-89c5-50ed191ebcdd"
   },
   "outputs": [
    {
     "name": "stdout",
     "output_type": "stream",
     "text": [
      "nulls in the dataset:\n",
      " q18_ownpets                        0\n",
      "volunteer                         20\n",
      "household_income                  20\n",
      "educational_attainment            20\n",
      "sum_pet_types                      0\n",
      "employment                        20\n",
      "educational_attainment_encoded    20\n",
      "household_income_encoded          20\n",
      "dtype: int64 \n"
     ]
    }
   ],
   "source": [
    "print(f\"nulls in the dataset:\\n {df.isnull().sum()} \")"
   ]
  },
  {
   "cell_type": "markdown",
   "metadata": {},
   "source": [
    "Dropping missing values:\n"
   ]
  },
  {
   "cell_type": "code",
   "execution_count": 20,
   "metadata": {
    "colab": {
     "base_uri": "https://localhost:8080/",
     "height": 335
    },
    "id": "ZmF-O6ggWbvP",
    "outputId": "e28a6061-8ed6-47a2-8b14-a8dc8ee5a021"
   },
   "outputs": [
    {
     "data": {
      "text/plain": [
       "q18_ownpets                       0\n",
       "volunteer                         0\n",
       "household_income                  0\n",
       "educational_attainment            0\n",
       "sum_pet_types                     0\n",
       "employment                        0\n",
       "educational_attainment_encoded    0\n",
       "household_income_encoded          0\n",
       "dtype: int64"
      ]
     },
     "execution_count": 20,
     "metadata": {},
     "output_type": "execute_result"
    }
   ],
   "source": [
    "df = df.dropna()\n",
    "df.isnull().sum()"
   ]
  },
  {
   "cell_type": "markdown",
   "metadata": {
    "id": "vDFYR8KUg38o"
   },
   "source": [
    "## Transform Dataframe for Modeling\n"
   ]
  },
  {
   "cell_type": "code",
   "execution_count": 21,
   "metadata": {
    "colab": {
     "base_uri": "https://localhost:8080/",
     "height": 708
    },
    "id": "qz4jk-sr5Atb",
    "outputId": "f25c583f-39b9-4bd3-be4c-62e297cd2d8c"
   },
   "outputs": [
    {
     "name": "stdout",
     "output_type": "stream",
     "text": [
      "hsi\n",
      "hsi\n"
     ]
    }
   ],
   "source": [
    "from sklearn.preprocessing import LabelEncoder\n",
    "\n",
    "label_encoder = LabelEncoder()\n",
    "label_mappings = {}\n",
    "\n",
    "# Encoding categorical columns, preserving order for ordinal variables\n",
    "for col in df.columns:\n",
    "  if col in ['educational_attainment_encoded', 'household_income_encoded']:\n",
    "    print('hsi')\n",
    "    df[col] = df[col].cat.codes  # Use cat.codes to preserve order\n",
    "  elif col in ['q18_ownpets', 'employment','volunteer']:\n",
    "    df[col] = label_encoder.fit_transform(df[col])\n",
    "    label_mappings[col] = dict(zip(label_encoder.classes_, label_encoder.transform(label_encoder.classes_)))\n",
    "\n",
    "\n"
   ]
  },
  {
   "cell_type": "code",
   "execution_count": 22,
   "metadata": {},
   "outputs": [
    {
     "name": "stdout",
     "output_type": "stream",
     "text": [
      "{'q18_ownpets': {'No': 0, 'Yes': 1}, 'volunteer': {'No': 0, 'Yes': 1}, 'employment': {'Full Time': 0, 'Homemaker': 1, 'Other': 2, 'Part Time': 3, 'Retired': 4, 'Student': 5, 'Unable to Work': 6, 'Unemployed': 7}}\n"
     ]
    },
    {
     "data": {
      "text/html": [
       "<div>\n",
       "<style scoped>\n",
       "    .dataframe tbody tr th:only-of-type {\n",
       "        vertical-align: middle;\n",
       "    }\n",
       "\n",
       "    .dataframe tbody tr th {\n",
       "        vertical-align: top;\n",
       "    }\n",
       "\n",
       "    .dataframe thead th {\n",
       "        text-align: right;\n",
       "    }\n",
       "</style>\n",
       "<table border=\"1\" class=\"dataframe\">\n",
       "  <thead>\n",
       "    <tr style=\"text-align: right;\">\n",
       "      <th></th>\n",
       "      <th>q18_ownpets</th>\n",
       "      <th>volunteer</th>\n",
       "      <th>household_income</th>\n",
       "      <th>educational_attainment</th>\n",
       "      <th>sum_pet_types</th>\n",
       "      <th>employment</th>\n",
       "      <th>educational_attainment_encoded</th>\n",
       "      <th>household_income_encoded</th>\n",
       "    </tr>\n",
       "  </thead>\n",
       "  <tbody>\n",
       "    <tr>\n",
       "      <th>0</th>\n",
       "      <td>1</td>\n",
       "      <td>1</td>\n",
       "      <td>$80,000 to $99,999</td>\n",
       "      <td>Post-Graduate</td>\n",
       "      <td>1.0</td>\n",
       "      <td>0</td>\n",
       "      <td>4</td>\n",
       "      <td>7</td>\n",
       "    </tr>\n",
       "    <tr>\n",
       "      <th>1</th>\n",
       "      <td>1</td>\n",
       "      <td>1</td>\n",
       "      <td>$100,000 to $149,000</td>\n",
       "      <td>Undergraduate</td>\n",
       "      <td>4.0</td>\n",
       "      <td>0</td>\n",
       "      <td>3</td>\n",
       "      <td>8</td>\n",
       "    </tr>\n",
       "    <tr>\n",
       "      <th>2</th>\n",
       "      <td>1</td>\n",
       "      <td>0</td>\n",
       "      <td>$100,000 to $149,000</td>\n",
       "      <td>Undergraduate</td>\n",
       "      <td>2.0</td>\n",
       "      <td>0</td>\n",
       "      <td>3</td>\n",
       "      <td>8</td>\n",
       "    </tr>\n",
       "    <tr>\n",
       "      <th>3</th>\n",
       "      <td>1</td>\n",
       "      <td>1</td>\n",
       "      <td>$80,000 to $99,999</td>\n",
       "      <td>Undergraduate</td>\n",
       "      <td>1.0</td>\n",
       "      <td>0</td>\n",
       "      <td>3</td>\n",
       "      <td>7</td>\n",
       "    </tr>\n",
       "    <tr>\n",
       "      <th>4</th>\n",
       "      <td>1</td>\n",
       "      <td>1</td>\n",
       "      <td>$100,000 to $149,000</td>\n",
       "      <td>Undergraduate</td>\n",
       "      <td>2.0</td>\n",
       "      <td>0</td>\n",
       "      <td>3</td>\n",
       "      <td>8</td>\n",
       "    </tr>\n",
       "  </tbody>\n",
       "</table>\n",
       "</div>"
      ],
      "text/plain": [
       "   q18_ownpets  volunteer      household_income educational_attainment  \\\n",
       "0            1          1    $80,000 to $99,999          Post-Graduate   \n",
       "1            1          1  $100,000 to $149,000          Undergraduate   \n",
       "2            1          0  $100,000 to $149,000          Undergraduate   \n",
       "3            1          1    $80,000 to $99,999          Undergraduate   \n",
       "4            1          1  $100,000 to $149,000          Undergraduate   \n",
       "\n",
       "   sum_pet_types  employment  educational_attainment_encoded  \\\n",
       "0            1.0           0                               4   \n",
       "1            4.0           0                               3   \n",
       "2            2.0           0                               3   \n",
       "3            1.0           0                               3   \n",
       "4            2.0           0                               3   \n",
       "\n",
       "   household_income_encoded  \n",
       "0                         7  \n",
       "1                         8  \n",
       "2                         8  \n",
       "3                         7  \n",
       "4                         8  "
      ]
     },
     "execution_count": 22,
     "metadata": {},
     "output_type": "execute_result"
    }
   ],
   "source": [
    "print(label_mappings)\n",
    "df.head()\n"
   ]
  },
  {
   "cell_type": "code",
   "execution_count": 23,
   "metadata": {
    "colab": {
     "base_uri": "https://localhost:8080/"
    },
    "id": "XJkS55G3blv5",
    "outputId": "8e694352-0e1b-4ad7-a330-fad26ad1afa8"
   },
   "outputs": [],
   "source": [
    "df.drop(columns = ['educational_attainment', 'household_income'], inplace=True)"
   ]
  },
  {
   "cell_type": "code",
   "execution_count": 24,
   "metadata": {
    "colab": {
     "base_uri": "https://localhost:8080/"
    },
    "id": "ge4z_y7YhpcO",
    "outputId": "08e5aeb6-899e-4f78-b77f-fef10ef556af"
   },
   "outputs": [
    {
     "name": "stdout",
     "output_type": "stream",
     "text": [
      "X_train shape: (784, 5)\n",
      "X_test shape: (196, 5)\n",
      "y_train shape: (784,)\n",
      "y_test shape: (196,)\n"
     ]
    }
   ],
   "source": [
    "from sklearn.model_selection import train_test_split\n",
    "\n",
    "X = df.drop('volunteer', axis=1)\n",
    "y = df['volunteer']\n",
    "# Split data into train and test sets, balancing according to 'volunteer'\n",
    "X_train, X_test, y_train, y_test = train_test_split(X, y, test_size=0.2, stratify=y, random_state=42)\n",
    "\n",
    "print(\"X_train shape:\", X_train.shape)\n",
    "print(\"X_test shape:\", X_test.shape)\n",
    "print(\"y_train shape:\", y_train.shape)\n",
    "print(\"y_test shape:\", y_test.shape)\n"
   ]
  },
  {
   "cell_type": "code",
   "execution_count": 25,
   "metadata": {
    "colab": {
     "base_uri": "https://localhost:8080/",
     "height": 206
    },
    "id": "HpgRoCOk_gkV",
    "outputId": "8a3e4232-0086-4549-a3e4-4671dfef2b21"
   },
   "outputs": [
    {
     "data": {
      "text/html": [
       "<div>\n",
       "<style scoped>\n",
       "    .dataframe tbody tr th:only-of-type {\n",
       "        vertical-align: middle;\n",
       "    }\n",
       "\n",
       "    .dataframe tbody tr th {\n",
       "        vertical-align: top;\n",
       "    }\n",
       "\n",
       "    .dataframe thead th {\n",
       "        text-align: right;\n",
       "    }\n",
       "</style>\n",
       "<table border=\"1\" class=\"dataframe\">\n",
       "  <thead>\n",
       "    <tr style=\"text-align: right;\">\n",
       "      <th></th>\n",
       "      <th>q18_ownpets</th>\n",
       "      <th>sum_pet_types</th>\n",
       "      <th>employment</th>\n",
       "      <th>educational_attainment_encoded</th>\n",
       "      <th>household_income_encoded</th>\n",
       "    </tr>\n",
       "  </thead>\n",
       "  <tbody>\n",
       "    <tr>\n",
       "      <th>36</th>\n",
       "      <td>0</td>\n",
       "      <td>0.0</td>\n",
       "      <td>0</td>\n",
       "      <td>5</td>\n",
       "      <td>8</td>\n",
       "    </tr>\n",
       "    <tr>\n",
       "      <th>124</th>\n",
       "      <td>1</td>\n",
       "      <td>1.0</td>\n",
       "      <td>0</td>\n",
       "      <td>3</td>\n",
       "      <td>7</td>\n",
       "    </tr>\n",
       "    <tr>\n",
       "      <th>317</th>\n",
       "      <td>0</td>\n",
       "      <td>0.0</td>\n",
       "      <td>4</td>\n",
       "      <td>3</td>\n",
       "      <td>3</td>\n",
       "    </tr>\n",
       "    <tr>\n",
       "      <th>660</th>\n",
       "      <td>1</td>\n",
       "      <td>1.0</td>\n",
       "      <td>3</td>\n",
       "      <td>3</td>\n",
       "      <td>7</td>\n",
       "    </tr>\n",
       "    <tr>\n",
       "      <th>285</th>\n",
       "      <td>0</td>\n",
       "      <td>0.0</td>\n",
       "      <td>0</td>\n",
       "      <td>3</td>\n",
       "      <td>4</td>\n",
       "    </tr>\n",
       "  </tbody>\n",
       "</table>\n",
       "</div>"
      ],
      "text/plain": [
       "     q18_ownpets  sum_pet_types  employment  educational_attainment_encoded  \\\n",
       "36             0            0.0           0                               5   \n",
       "124            1            1.0           0                               3   \n",
       "317            0            0.0           4                               3   \n",
       "660            1            1.0           3                               3   \n",
       "285            0            0.0           0                               3   \n",
       "\n",
       "     household_income_encoded  \n",
       "36                          8  \n",
       "124                         7  \n",
       "317                         3  \n",
       "660                         7  \n",
       "285                         4  "
      ]
     },
     "execution_count": 25,
     "metadata": {},
     "output_type": "execute_result"
    }
   ],
   "source": [
    "X_train.head()"
   ]
  },
  {
   "cell_type": "markdown",
   "metadata": {
    "id": "ZHdVhuYJx97K"
   },
   "source": [
    "## Modeling"
   ]
  },
  {
   "cell_type": "code",
   "execution_count": 27,
   "metadata": {
    "colab": {
     "base_uri": "https://localhost:8080/"
    },
    "id": "muRVK1L6CpGO",
    "outputId": "88856c44-b4aa-4da1-8f47-6e4509055dc0"
   },
   "outputs": [
    {
     "name": "stdout",
     "output_type": "stream",
     "text": [
      "Class distribution after undersampling:\n",
      "volunteer\n",
      "0    206\n",
      "1    206\n",
      "Name: count, dtype: int64\n"
     ]
    }
   ],
   "source": [
    "from imblearn.under_sampling import RandomUnderSampler\n",
    "\n",
    "\n",
    "rus = RandomUnderSampler(random_state=42)\n",
    "X_train_resampled, y_train_resampled = rus.fit_resample(X_train, y_train) # Resample the training data\n",
    "\n",
    "print(\"Class distribution after undersampling:\")\n",
    "print(y_train_resampled.value_counts())\n"
   ]
  },
  {
   "cell_type": "code",
   "execution_count": null,
   "metadata": {
    "colab": {
     "base_uri": "https://localhost:8080/"
    },
    "id": "bYvwX87litHq",
    "outputId": "3a3efdaf-3cc7-483e-8367-f65c66b98f13"
   },
   "outputs": [
    {
     "name": "stdout",
     "output_type": "stream",
     "text": [
      "Optimization terminated successfully.\n",
      "         Current function value: 0.674781\n",
      "         Iterations 5\n",
      "                           Logit Regression Results                           \n",
      "==============================================================================\n",
      "Dep. Variable:              volunteer   No. Observations:                  412\n",
      "Model:                          Logit   Df Residuals:                      406\n",
      "Method:                           MLE   Df Model:                            5\n",
      "Date:                Thu, 19 Sep 2024   Pseudo R-squ.:                 0.02650\n",
      "Time:                        20:49:53   Log-Likelihood:                -278.01\n",
      "converged:                       True   LL-Null:                       -285.58\n",
      "Covariance Type:            nonrobust   LLR p-value:                  0.009805\n",
      "==================================================================================================\n",
      "                                     coef    std err          z      P>|z|      [0.025      0.975]\n",
      "--------------------------------------------------------------------------------------------------\n",
      "const                             -1.0402      0.374     -2.778      0.005      -1.774      -0.306\n",
      "q18_ownpets                       -0.4437      0.354     -1.254      0.210      -1.137       0.250\n",
      "sum_pet_types                      0.3346      0.212      1.581      0.114      -0.080       0.749\n",
      "employment                         0.0470      0.057      0.820      0.412      -0.065       0.159\n",
      "educational_attainment_encoded     0.3324      0.097      3.420      0.001       0.142       0.523\n",
      "household_income_encoded           0.0141      0.037      0.383      0.702      -0.058       0.086\n",
      "==================================================================================================\n"
     ]
    }
   ],
   "source": [
    "import numpy as np\n",
    "import statsmodels.api as sm\n",
    "\n",
    "# Add a constant to the independent variables\n",
    "X_train_const = sm.add_constant(X_train_resampled)\n",
    "X_test_const = sm.add_constant(X_test)\n",
    "\n",
    "# Fit the logistic regression model with class weights\n",
    "logit_model = sm.Logit(y_train_resampled, X_train_const)\n",
    "result = logit_model.fit()\n",
    "\n",
    "print(result.summary())\n"
   ]
  },
  {
   "cell_type": "markdown",
   "metadata": {
    "id": "USZnsXctx653"
   },
   "source": [
    "There is no quanitifiable effect of pet ownership on volunteering in this dataset.  Educational attainment is the only significant predictor at the 0.05 alpha level using a z, meaning that I can reject the null hypothesis that this coefficient is equal to 0.\n",
    "\n",
    "The model does not do a great job of explaining the distribution of Volunteering. This is evidenced by the log-likelihood, which does not improve much between the full and null model.\n",
    "\n",
    "This is not a huge surprise - it's very believable that there are  things outside of what is captured in these data that influence if a person volunteers or not.\n"
   ]
  },
  {
   "cell_type": "code",
   "execution_count": null,
   "metadata": {
    "colab": {
     "base_uri": "https://localhost:8080/"
    },
    "id": "_vpfFr3xDmsu",
    "outputId": "efe32532-97d9-4bd1-8890-83586000d862"
   },
   "outputs": [
    {
     "name": "stderr",
     "output_type": "stream",
     "text": [
      "/usr/local/lib/python3.10/dist-packages/statsmodels/base/model.py:1912: FutureWarning: The behavior of wald_test will change after 0.14 to returning scalar test statistic values. To get the future behavior now, set scalar to True. To silence this message while retaining the legacy behavior, set scalar to False.\n",
      "  warnings.warn(\n"
     ]
    },
    {
     "data": {
      "text/plain": [
       "<class 'statsmodels.stats.contrast.WaldTestResults'>\n",
       "                                                  chi2                 P>chi2  df constraint\n",
       "const                            [[7.717067273255586]]   0.005470118467288624              1\n",
       "q18_ownpets                     [[1.5720592949842729]]    0.20990820603335095              1\n",
       "sum_pet_types                   [[2.5001510530292776]]    0.11383537911798212              1\n",
       "employment                      [[0.6731437972893429]]     0.4119576787943148              1\n",
       "educational_attainment_encoded  [[11.698516267051433]]  0.0006254995472184443              1\n",
       "household_income_encoded        [[0.1467165324940548]]     0.7016931151107725              1"
      ]
     },
     "execution_count": 296,
     "metadata": {},
     "output_type": "execute_result"
    }
   ],
   "source": [
    "result.wald_test_terms()"
   ]
  },
  {
   "cell_type": "markdown",
   "metadata": {
    "id": "pehpvewMD9a8"
   },
   "source": [
    "The wald test confirms that the Educational Attainment Encoded column is the only variable that is significantly different from 0. Going forward, I'll only interpret this variable."
   ]
  },
  {
   "cell_type": "markdown",
   "metadata": {
    "id": "YHoYbO3tdtdA"
   },
   "source": [
    "# Interpretaion of Model\n",
    "\n",
    "### Education on Volunteering\n"
   ]
  },
  {
   "cell_type": "code",
   "execution_count": null,
   "metadata": {
    "colab": {
     "base_uri": "https://localhost:8080/"
    },
    "id": "eYMEQ5RizELs",
    "outputId": "103ba2dc-f7bb-4993-82f4-7109492a3259"
   },
   "outputs": [
    {
     "name": "stdout",
     "output_type": "stream",
     "text": [
      "                         Variable  Coefficient  Odds Ratio\n",
      "0                           const    -1.040198    0.353385\n",
      "1                     q18_ownpets    -0.443692    0.641663\n",
      "2                   sum_pet_types     0.334633    1.397428\n",
      "3                      employment     0.047016    1.048138\n",
      "4  educational_attainment_encoded     0.332367    1.394265\n",
      "5        household_income_encoded     0.014092    1.014192\n"
     ]
    }
   ],
   "source": [
    "coefficients = result.params\n",
    "odds_ratios = pd.DataFrame({\n",
    "    'Variable': coefficients.index,\n",
    "    'Coefficient': coefficients.values,\n",
    "    'Odds Ratio': np.exp(coefficients.values)\n",
    "})\n",
    "\n",
    "print(odds_ratios)"
   ]
  },
  {
   "cell_type": "markdown",
   "metadata": {
    "id": "Qnx-QXboAMnQ"
   },
   "source": [
    "Educational attainment has a positive odds ratio, meaning that the odds of the outcome are higher in the more educated groups"
   ]
  },
  {
   "cell_type": "code",
   "execution_count": null,
   "metadata": {
    "colab": {
     "base_uri": "https://localhost:8080/",
     "height": 206
    },
    "id": "hNkwOLVLc25k",
    "outputId": "4de82b62-367f-408e-9986-e425ff0b9bf1"
   },
   "outputs": [
    {
     "data": {
      "application/vnd.google.colaboratory.intrinsic+json": {
       "summary": "{\n  \"name\": \"results_df\",\n  \"rows\": 5,\n  \"fields\": [\n    {\n      \"column\": \"Feature\",\n      \"properties\": {\n        \"dtype\": \"string\",\n        \"num_unique_values\": 5,\n        \"samples\": [\n          \"sum_pet_types\",\n          \"household_income_encoded\",\n          \"employment\"\n        ],\n        \"semantic_type\": \"\",\n        \"description\": \"\"\n      }\n    },\n    {\n      \"column\": \"Coefficient\",\n      \"properties\": {\n        \"dtype\": \"number\",\n        \"std\": 0.3062794872484655,\n        \"min\": -0.4134782770909617,\n        \"max\": 0.3646353727946371,\n        \"num_unique_values\": 5,\n        \"samples\": [\n          0.29089551520145535,\n          -0.009459210606370656,\n          0.07042136689802732\n        ],\n        \"semantic_type\": \"\",\n        \"description\": \"\"\n      }\n    },\n    {\n      \"column\": \"Probability Change\",\n      \"properties\": {\n        \"dtype\": \"number\",\n        \"std\": 0.07566668068810135,\n        \"min\": 0.39807838954540453,\n        \"max\": 0.590162062155655,\n        \"num_unique_values\": 5,\n        \"samples\": [\n          0.572215355730999,\n          0.4976352149811375,\n          0.5175980696755316\n        ],\n        \"semantic_type\": \"\",\n        \"description\": \"\"\n      }\n    },\n    {\n      \"column\": \"New Probability\",\n      \"properties\": {\n        \"dtype\": \"number\",\n        \"std\": 0.038363296373402564,\n        \"min\": 0.2018272653048811,\n        \"max\": 0.29921442163084166,\n        \"num_unique_values\": 5,\n        \"samples\": [\n          0.29011537286546096,\n          0.25230295639445627,\n          0.26242420004008427\n        ],\n        \"semantic_type\": \"\",\n        \"description\": \"\"\n      }\n    }\n  ]\n}",
       "type": "dataframe",
       "variable_name": "results_df"
      },
      "text/html": [
       "\n",
       "  <div id=\"df-a03f9539-259e-4e34-83ad-3faefd7f5e52\" class=\"colab-df-container\">\n",
       "    <div>\n",
       "<style scoped>\n",
       "    .dataframe tbody tr th:only-of-type {\n",
       "        vertical-align: middle;\n",
       "    }\n",
       "\n",
       "    .dataframe tbody tr th {\n",
       "        vertical-align: top;\n",
       "    }\n",
       "\n",
       "    .dataframe thead th {\n",
       "        text-align: right;\n",
       "    }\n",
       "</style>\n",
       "<table border=\"1\" class=\"dataframe\">\n",
       "  <thead>\n",
       "    <tr style=\"text-align: right;\">\n",
       "      <th></th>\n",
       "      <th>Feature</th>\n",
       "      <th>Coefficient</th>\n",
       "      <th>Probability Change</th>\n",
       "      <th>New Probability</th>\n",
       "    </tr>\n",
       "  </thead>\n",
       "  <tbody>\n",
       "    <tr>\n",
       "      <th>0</th>\n",
       "      <td>q18_ownpets</td>\n",
       "      <td>-0.413478</td>\n",
       "      <td>0.398078</td>\n",
       "      <td>0.201827</td>\n",
       "    </tr>\n",
       "    <tr>\n",
       "      <th>1</th>\n",
       "      <td>sum_pet_types</td>\n",
       "      <td>0.290896</td>\n",
       "      <td>0.572215</td>\n",
       "      <td>0.290115</td>\n",
       "    </tr>\n",
       "    <tr>\n",
       "      <th>2</th>\n",
       "      <td>employment</td>\n",
       "      <td>0.070421</td>\n",
       "      <td>0.517598</td>\n",
       "      <td>0.262424</td>\n",
       "    </tr>\n",
       "    <tr>\n",
       "      <th>3</th>\n",
       "      <td>educational_attainment_encoded</td>\n",
       "      <td>0.364635</td>\n",
       "      <td>0.590162</td>\n",
       "      <td>0.299214</td>\n",
       "    </tr>\n",
       "    <tr>\n",
       "      <th>4</th>\n",
       "      <td>household_income_encoded</td>\n",
       "      <td>-0.009459</td>\n",
       "      <td>0.497635</td>\n",
       "      <td>0.252303</td>\n",
       "    </tr>\n",
       "  </tbody>\n",
       "</table>\n",
       "</div>\n",
       "    <div class=\"colab-df-buttons\">\n",
       "\n",
       "  <div class=\"colab-df-container\">\n",
       "    <button class=\"colab-df-convert\" onclick=\"convertToInteractive('df-a03f9539-259e-4e34-83ad-3faefd7f5e52')\"\n",
       "            title=\"Convert this dataframe to an interactive table.\"\n",
       "            style=\"display:none;\">\n",
       "\n",
       "  <svg xmlns=\"http://www.w3.org/2000/svg\" height=\"24px\" viewBox=\"0 -960 960 960\">\n",
       "    <path d=\"M120-120v-720h720v720H120Zm60-500h600v-160H180v160Zm220 220h160v-160H400v160Zm0 220h160v-160H400v160ZM180-400h160v-160H180v160Zm440 0h160v-160H620v160ZM180-180h160v-160H180v160Zm440 0h160v-160H620v160Z\"/>\n",
       "  </svg>\n",
       "    </button>\n",
       "\n",
       "  <style>\n",
       "    .colab-df-container {\n",
       "      display:flex;\n",
       "      gap: 12px;\n",
       "    }\n",
       "\n",
       "    .colab-df-convert {\n",
       "      background-color: #E8F0FE;\n",
       "      border: none;\n",
       "      border-radius: 50%;\n",
       "      cursor: pointer;\n",
       "      display: none;\n",
       "      fill: #1967D2;\n",
       "      height: 32px;\n",
       "      padding: 0 0 0 0;\n",
       "      width: 32px;\n",
       "    }\n",
       "\n",
       "    .colab-df-convert:hover {\n",
       "      background-color: #E2EBFA;\n",
       "      box-shadow: 0px 1px 2px rgba(60, 64, 67, 0.3), 0px 1px 3px 1px rgba(60, 64, 67, 0.15);\n",
       "      fill: #174EA6;\n",
       "    }\n",
       "\n",
       "    .colab-df-buttons div {\n",
       "      margin-bottom: 4px;\n",
       "    }\n",
       "\n",
       "    [theme=dark] .colab-df-convert {\n",
       "      background-color: #3B4455;\n",
       "      fill: #D2E3FC;\n",
       "    }\n",
       "\n",
       "    [theme=dark] .colab-df-convert:hover {\n",
       "      background-color: #434B5C;\n",
       "      box-shadow: 0px 1px 3px 1px rgba(0, 0, 0, 0.15);\n",
       "      filter: drop-shadow(0px 1px 2px rgba(0, 0, 0, 0.3));\n",
       "      fill: #FFFFFF;\n",
       "    }\n",
       "  </style>\n",
       "\n",
       "    <script>\n",
       "      const buttonEl =\n",
       "        document.querySelector('#df-a03f9539-259e-4e34-83ad-3faefd7f5e52 button.colab-df-convert');\n",
       "      buttonEl.style.display =\n",
       "        google.colab.kernel.accessAllowed ? 'block' : 'none';\n",
       "\n",
       "      async function convertToInteractive(key) {\n",
       "        const element = document.querySelector('#df-a03f9539-259e-4e34-83ad-3faefd7f5e52');\n",
       "        const dataTable =\n",
       "          await google.colab.kernel.invokeFunction('convertToInteractive',\n",
       "                                                    [key], {});\n",
       "        if (!dataTable) return;\n",
       "\n",
       "        const docLinkHtml = 'Like what you see? Visit the ' +\n",
       "          '<a target=\"_blank\" href=https://colab.research.google.com/notebooks/data_table.ipynb>data table notebook</a>'\n",
       "          + ' to learn more about interactive tables.';\n",
       "        element.innerHTML = '';\n",
       "        dataTable['output_type'] = 'display_data';\n",
       "        await google.colab.output.renderOutput(dataTable, element);\n",
       "        const docLink = document.createElement('div');\n",
       "        docLink.innerHTML = docLinkHtml;\n",
       "        element.appendChild(docLink);\n",
       "      }\n",
       "    </script>\n",
       "  </div>\n",
       "\n",
       "\n",
       "<div id=\"df-90df6220-66aa-4b06-b7fb-e4537d18f39c\">\n",
       "  <button class=\"colab-df-quickchart\" onclick=\"quickchart('df-90df6220-66aa-4b06-b7fb-e4537d18f39c')\"\n",
       "            title=\"Suggest charts\"\n",
       "            style=\"display:none;\">\n",
       "\n",
       "<svg xmlns=\"http://www.w3.org/2000/svg\" height=\"24px\"viewBox=\"0 0 24 24\"\n",
       "     width=\"24px\">\n",
       "    <g>\n",
       "        <path d=\"M19 3H5c-1.1 0-2 .9-2 2v14c0 1.1.9 2 2 2h14c1.1 0 2-.9 2-2V5c0-1.1-.9-2-2-2zM9 17H7v-7h2v7zm4 0h-2V7h2v10zm4 0h-2v-4h2v4z\"/>\n",
       "    </g>\n",
       "</svg>\n",
       "  </button>\n",
       "\n",
       "<style>\n",
       "  .colab-df-quickchart {\n",
       "      --bg-color: #E8F0FE;\n",
       "      --fill-color: #1967D2;\n",
       "      --hover-bg-color: #E2EBFA;\n",
       "      --hover-fill-color: #174EA6;\n",
       "      --disabled-fill-color: #AAA;\n",
       "      --disabled-bg-color: #DDD;\n",
       "  }\n",
       "\n",
       "  [theme=dark] .colab-df-quickchart {\n",
       "      --bg-color: #3B4455;\n",
       "      --fill-color: #D2E3FC;\n",
       "      --hover-bg-color: #434B5C;\n",
       "      --hover-fill-color: #FFFFFF;\n",
       "      --disabled-bg-color: #3B4455;\n",
       "      --disabled-fill-color: #666;\n",
       "  }\n",
       "\n",
       "  .colab-df-quickchart {\n",
       "    background-color: var(--bg-color);\n",
       "    border: none;\n",
       "    border-radius: 50%;\n",
       "    cursor: pointer;\n",
       "    display: none;\n",
       "    fill: var(--fill-color);\n",
       "    height: 32px;\n",
       "    padding: 0;\n",
       "    width: 32px;\n",
       "  }\n",
       "\n",
       "  .colab-df-quickchart:hover {\n",
       "    background-color: var(--hover-bg-color);\n",
       "    box-shadow: 0 1px 2px rgba(60, 64, 67, 0.3), 0 1px 3px 1px rgba(60, 64, 67, 0.15);\n",
       "    fill: var(--button-hover-fill-color);\n",
       "  }\n",
       "\n",
       "  .colab-df-quickchart-complete:disabled,\n",
       "  .colab-df-quickchart-complete:disabled:hover {\n",
       "    background-color: var(--disabled-bg-color);\n",
       "    fill: var(--disabled-fill-color);\n",
       "    box-shadow: none;\n",
       "  }\n",
       "\n",
       "  .colab-df-spinner {\n",
       "    border: 2px solid var(--fill-color);\n",
       "    border-color: transparent;\n",
       "    border-bottom-color: var(--fill-color);\n",
       "    animation:\n",
       "      spin 1s steps(1) infinite;\n",
       "  }\n",
       "\n",
       "  @keyframes spin {\n",
       "    0% {\n",
       "      border-color: transparent;\n",
       "      border-bottom-color: var(--fill-color);\n",
       "      border-left-color: var(--fill-color);\n",
       "    }\n",
       "    20% {\n",
       "      border-color: transparent;\n",
       "      border-left-color: var(--fill-color);\n",
       "      border-top-color: var(--fill-color);\n",
       "    }\n",
       "    30% {\n",
       "      border-color: transparent;\n",
       "      border-left-color: var(--fill-color);\n",
       "      border-top-color: var(--fill-color);\n",
       "      border-right-color: var(--fill-color);\n",
       "    }\n",
       "    40% {\n",
       "      border-color: transparent;\n",
       "      border-right-color: var(--fill-color);\n",
       "      border-top-color: var(--fill-color);\n",
       "    }\n",
       "    60% {\n",
       "      border-color: transparent;\n",
       "      border-right-color: var(--fill-color);\n",
       "    }\n",
       "    80% {\n",
       "      border-color: transparent;\n",
       "      border-right-color: var(--fill-color);\n",
       "      border-bottom-color: var(--fill-color);\n",
       "    }\n",
       "    90% {\n",
       "      border-color: transparent;\n",
       "      border-bottom-color: var(--fill-color);\n",
       "    }\n",
       "  }\n",
       "</style>\n",
       "\n",
       "  <script>\n",
       "    async function quickchart(key) {\n",
       "      const quickchartButtonEl =\n",
       "        document.querySelector('#' + key + ' button');\n",
       "      quickchartButtonEl.disabled = true;  // To prevent multiple clicks.\n",
       "      quickchartButtonEl.classList.add('colab-df-spinner');\n",
       "      try {\n",
       "        const charts = await google.colab.kernel.invokeFunction(\n",
       "            'suggestCharts', [key], {});\n",
       "      } catch (error) {\n",
       "        console.error('Error during call to suggestCharts:', error);\n",
       "      }\n",
       "      quickchartButtonEl.classList.remove('colab-df-spinner');\n",
       "      quickchartButtonEl.classList.add('colab-df-quickchart-complete');\n",
       "    }\n",
       "    (() => {\n",
       "      let quickchartButtonEl =\n",
       "        document.querySelector('#df-90df6220-66aa-4b06-b7fb-e4537d18f39c button');\n",
       "      quickchartButtonEl.style.display =\n",
       "        google.colab.kernel.accessAllowed ? 'block' : 'none';\n",
       "    })();\n",
       "  </script>\n",
       "</div>\n",
       "\n",
       "  <div id=\"id_32fabd15-cbd2-4c4d-b2cb-3b81bca9e583\">\n",
       "    <style>\n",
       "      .colab-df-generate {\n",
       "        background-color: #E8F0FE;\n",
       "        border: none;\n",
       "        border-radius: 50%;\n",
       "        cursor: pointer;\n",
       "        display: none;\n",
       "        fill: #1967D2;\n",
       "        height: 32px;\n",
       "        padding: 0 0 0 0;\n",
       "        width: 32px;\n",
       "      }\n",
       "\n",
       "      .colab-df-generate:hover {\n",
       "        background-color: #E2EBFA;\n",
       "        box-shadow: 0px 1px 2px rgba(60, 64, 67, 0.3), 0px 1px 3px 1px rgba(60, 64, 67, 0.15);\n",
       "        fill: #174EA6;\n",
       "      }\n",
       "\n",
       "      [theme=dark] .colab-df-generate {\n",
       "        background-color: #3B4455;\n",
       "        fill: #D2E3FC;\n",
       "      }\n",
       "\n",
       "      [theme=dark] .colab-df-generate:hover {\n",
       "        background-color: #434B5C;\n",
       "        box-shadow: 0px 1px 3px 1px rgba(0, 0, 0, 0.15);\n",
       "        filter: drop-shadow(0px 1px 2px rgba(0, 0, 0, 0.3));\n",
       "        fill: #FFFFFF;\n",
       "      }\n",
       "    </style>\n",
       "    <button class=\"colab-df-generate\" onclick=\"generateWithVariable('results_df')\"\n",
       "            title=\"Generate code using this dataframe.\"\n",
       "            style=\"display:none;\">\n",
       "\n",
       "  <svg xmlns=\"http://www.w3.org/2000/svg\" height=\"24px\"viewBox=\"0 0 24 24\"\n",
       "       width=\"24px\">\n",
       "    <path d=\"M7,19H8.4L18.45,9,17,7.55,7,17.6ZM5,21V16.75L18.45,3.32a2,2,0,0,1,2.83,0l1.4,1.43a1.91,1.91,0,0,1,.58,1.4,1.91,1.91,0,0,1-.58,1.4L9.25,21ZM18.45,9,17,7.55Zm-12,3A5.31,5.31,0,0,0,4.9,8.1,5.31,5.31,0,0,0,1,6.5,5.31,5.31,0,0,0,4.9,4.9,5.31,5.31,0,0,0,6.5,1,5.31,5.31,0,0,0,8.1,4.9,5.31,5.31,0,0,0,12,6.5,5.46,5.46,0,0,0,6.5,12Z\"/>\n",
       "  </svg>\n",
       "    </button>\n",
       "    <script>\n",
       "      (() => {\n",
       "      const buttonEl =\n",
       "        document.querySelector('#id_32fabd15-cbd2-4c4d-b2cb-3b81bca9e583 button.colab-df-generate');\n",
       "      buttonEl.style.display =\n",
       "        google.colab.kernel.accessAllowed ? 'block' : 'none';\n",
       "\n",
       "      buttonEl.onclick = () => {\n",
       "        google.colab.notebook.generateWithVariable('results_df');\n",
       "      }\n",
       "      })();\n",
       "    </script>\n",
       "  </div>\n",
       "\n",
       "    </div>\n",
       "  </div>\n"
      ],
      "text/plain": [
       "                          Feature  Coefficient  Probability Change  \\\n",
       "0                     q18_ownpets    -0.413478            0.398078   \n",
       "1                   sum_pet_types     0.290896            0.572215   \n",
       "2                      employment     0.070421            0.517598   \n",
       "3  educational_attainment_encoded     0.364635            0.590162   \n",
       "4        household_income_encoded    -0.009459            0.497635   \n",
       "\n",
       "   New Probability  \n",
       "0         0.201827  \n",
       "1         0.290115  \n",
       "2         0.262424  \n",
       "3         0.299214  \n",
       "4         0.252303  "
      ]
     },
     "execution_count": 283,
     "metadata": {},
     "output_type": "execute_result"
    }
   ],
   "source": [
    "# Create a baseline prediction (probability of positive response with all features at 0)\n",
    "baseline_prediction = 1 / (1 + np.exp(-result.params['const']))\n",
    "\n",
    "# Initialize lists to store results\n",
    "features = []\n",
    "coefficients_list = []\n",
    "probability_changes = []\n",
    "new_probabilities = []\n",
    "\n",
    "# Iterate through the coefficients (excluding the intercept)\n",
    "for feature, coefficient in coefficients.items():\n",
    "  if feature != 'const':\n",
    "    log_odds_change = coefficient # Calculate the change in log-odds for a one-unit increase in the feature\n",
    "    probability_change = np.exp(log_odds_change) / (1 + np.exp(log_odds_change)) # Calculate the change in probability using the logistic function\n",
    "    new_probability = baseline_prediction * probability_change # Calculate the new probability of a positive response\n",
    "\n",
    "    # Append results to lists\n",
    "    features.append(feature)\n",
    "    coefficients_list.append(coefficient)\n",
    "    probability_changes.append(probability_change)\n",
    "    new_probabilities.append(new_probability)\n",
    "\n",
    "# Create a DataFrame from the results\n",
    "results_df = pd.DataFrame({\n",
    "    'Feature': features,\n",
    "    'Coefficient': coefficients_list,\n",
    "    'Probability Change': probability_changes,\n",
    "    'New Probability': new_probabilities\n",
    "})\n",
    "\n",
    "results_df\n"
   ]
  },
  {
   "cell_type": "markdown",
   "metadata": {
    "id": "WRoMU2XFeavz"
   },
   "source": [
    "There is a greater probability of volunteering given educational attainment: 29%. I don't believe this is a trustworthy estimate, given that this model doesn't explain the distribution of volunteering well, as shown above."
   ]
  },
  {
   "cell_type": "code",
   "execution_count": null,
   "metadata": {
    "colab": {
     "base_uri": "https://localhost:8080/"
    },
    "id": "0VrB0JirAeji",
    "outputId": "b07c668a-edc7-457d-8a4f-fa76ffb8729a"
   },
   "outputs": [
    {
     "name": "stdout",
     "output_type": "stream",
     "text": [
      "Accuracy: 0.7397959183673469\n",
      "AUC: 0.5485463150777552\n"
     ]
    }
   ],
   "source": [
    "from sklearn.metrics import accuracy_score, roc_auc_score\n",
    "\n",
    "y_pred_prob = result.predict(X_test_const) # Calculate predicted probabilities for the test set\n",
    "y_pred = (y_pred_prob >= 0.5).astype(int) # Predict classes for the test set\n",
    "\n",
    "accuracy = accuracy_score(y_test, y_pred)\n",
    "print(\"Accuracy:\", accuracy)\n",
    "\n",
    "auc = roc_auc_score(y_test, y_pred_prob)\n",
    "print(\"AUC:\", auc)\n"
   ]
  },
  {
   "cell_type": "markdown",
   "metadata": {
    "id": "mRwow9-pexLu"
   },
   "source": [
    "The accuracy, or true positive rate, is not bad, but the AUC is hardly better than average.\n"
   ]
  },
  {
   "cell_type": "markdown",
   "metadata": {
    "id": "0zBHpnsyfPLa"
   },
   "source": []
  }
 ],
 "metadata": {
  "colab": {
   "provenance": []
  },
  "kernelspec": {
   "display_name": "base",
   "language": "python",
   "name": "python3"
  },
  "language_info": {
   "codemirror_mode": {
    "name": "ipython",
    "version": 3
   },
   "file_extension": ".py",
   "mimetype": "text/x-python",
   "name": "python",
   "nbconvert_exporter": "python",
   "pygments_lexer": "ipython3",
   "version": "3.12.2"
  }
 },
 "nbformat": 4,
 "nbformat_minor": 0
}
